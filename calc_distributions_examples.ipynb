{
 "cells": [
  {
   "cell_type": "markdown",
   "metadata": {},
   "source": [
    "### Calculating distributions of different properties from Ariane output\n",
    "This notebook has examples for calculating 1, 2, and 3D distributions from Ariane trajectory output.  \n",
    "The usage builds on the functions in ariane_distributionfunctions.  \n",
    "The distributions are saved in `data/processed/lagrangian/`"
   ]
  },
  {
   "cell_type": "markdown",
   "metadata": {},
   "source": [
    "#### Load the data and define some variables"
   ]
  },
  {
   "cell_type": "code",
   "execution_count": 1,
   "metadata": {},
   "outputs": [],
   "source": [
    "import numpy as np\n",
    "import scipy.io as sio\n",
    "from matplotlib import pyplot as plt\n",
    "import xarray as xr\n",
    "from xhistogram.xarray import histogram as hist\n",
    "from thermodynamics import calc_sigmantr\n",
    "from ariane_distributionfunctions import ariane_D1, ariane_D2, ariane_D3, ariane_D4"
   ]
  },
  {
   "cell_type": "code",
   "execution_count": 2,
   "metadata": {},
   "outputs": [],
   "source": [
    "rootdir = '/home/ocean_personal_data/graemem/ariane/'\n",
    "model = 'orca025_global_5d'\n",
    "experiment = 'quant_back_seedNAn1_t*_sign27.7-28_MLrefz8delsig0.01'\n",
    "filepath = rootdir+'experiments/'+model+'/'+experiment+'/ariane_positions_quantitative.nc'\n",
    "filepath_initial = rootdir+'experiments/'+model+'/'+experiment+'/ariane_initial.nc'\n",
    "filepath_time = rootdir+'time/time_orca025_global_5d.mat'\n",
    "filepath_region = rootdir+'experiments/'+model+'/quant_back_seedNAn1_t3560-sep-4217_sign27.7-28_MLrefz8delsig0.01/region_limits'\n",
    "# Universal variables\n",
    "spy = 365*24*60*60\n",
    "yrst = 1958\n",
    "yrend = 2016\n",
    "ventsec = 7\n",
    "lastinit = 4217"
   ]
  },
  {
   "cell_type": "code",
   "execution_count": 5,
   "metadata": {},
   "outputs": [],
   "source": [
    "# Ariane input\n",
    "ds_initial = xr.open_mfdataset(filepath_initial,combine='nested',concat_dim='ntraj')\n",
    "ds_initial.init_volume.name = 'init_volume'\n",
    "# Ariane output\n",
    "ds = xr.open_mfdataset(filepath,combine='nested',concat_dim='ntraj')\n",
    "ds = xr.merge([ds, ds_initial.init_volume])\n",
    "ds['final_age'] = ds.final_age.astype('timedelta64[s]').astype('float64')/spy\n",
    "ds['init_dens'] = calc_sigmantr(ds.init_temp,ds.init_salt)\n",
    "ds['final_dens'] = calc_sigmantr(ds.final_temp,ds.final_salt)\n",
    "# Model times\n",
    "time_vals = np.append(np.array([0]),sio.loadmat(filepath_time)['time'].squeeze())\n",
    "time = xr.DataArray(time_vals,dims=['nfile'],coords={'nfile':np.arange(time_vals.size)})\n",
    "# Reagion limits\n",
    "region_limits = np.loadtxt(filepath_region)"
   ]
  },
  {
   "cell_type": "code",
   "execution_count": 7,
   "metadata": {},
   "outputs": [],
   "source": [
    "# Bins\n",
    "years = np.arange(yrst,yrend+1)\n",
    "ages = np.arange(-3/12,yrend-yrst+9/12)\n",
    "densities = np.arange(27.7,28,0.01)\n",
    "init_t_unique = np.unique(ds.init_t)\n",
    "inits = np.append(init_t_unique-0.5,init_t_unique[-1]+0.5)\n",
    "xs = np.arange(region_limits[0,0],region_limits[0,1])\n",
    "ys = np.arange(region_limits[1,0],region_limits[1,1])\n",
    "lats = np.arange(-30,80,5)"
   ]
  },
  {
   "cell_type": "markdown",
   "metadata": {},
   "source": [
    "#### A 1-D distribution"
   ]
  },
  {
   "cell_type": "code",
   "execution_count": 15,
   "metadata": {},
   "outputs": [],
   "source": [
    "var1 = ds.final_age\n",
    "bins = [ages]\n",
    "weights = ds.init_volume\n",
    "S = (ds.final_section==ventsec) & (ds.init_t==lastinit)\n",
    "subsetname = 'final_section-7_init_t-last'\n",
    "\n",
    "D1 = ariane_D1(\n",
    "    var1=var1,\n",
    "    bins=bins,\n",
    "    dim=['ntraj'],\n",
    "    weights=weights,\n",
    "    subset=True,\n",
    "    conditional=S,\n",
    "    subsetname=subsetname,\n",
    "    save=True\n",
    "        )"
   ]
  },
  {
   "cell_type": "markdown",
   "metadata": {},
   "source": [
    "#### A 2-D distribution"
   ]
  },
  {
   "cell_type": "code",
   "execution_count": 9,
   "metadata": {},
   "outputs": [],
   "source": [
    "var1 = ds.final_age\n",
    "var2 = ds.init_dens\n",
    "bins = [ages,densities]\n",
    "weights = ds.init_volume\n",
    "#weights.name='iViL'\n",
    "S = (ds.final_section==ventsec)\n",
    "subsetname = 'final_section-7'\n",
    "\n",
    "D2 = ariane_D2(\n",
    "    var1=var1,\n",
    "    var2=var2,\n",
    "    bins=bins,\n",
    "    dim=['ntraj'],\n",
    "    weights=weights,\n",
    "    subset=True,\n",
    "    conditional=S,\n",
    "    subsetname=subsetname,\n",
    "    save=True\n",
    "        )"
   ]
  },
  {
   "cell_type": "markdown",
   "metadata": {},
   "source": [
    "#### A 3-D distribution"
   ]
  },
  {
   "cell_type": "code",
   "execution_count": 18,
   "metadata": {},
   "outputs": [
    {
     "name": "stdout",
     "output_type": "stream",
     "text": [
      "final_age : -0.25 to 0.75\n",
      "final_age : 0.75 to 1.75\n",
      "final_age : 1.75 to 2.75\n",
      "final_age : 2.75 to 3.75\n",
      "final_age : 3.75 to 4.75\n",
      "final_age : 4.75 to 5.75\n",
      "final_age : 5.75 to 6.75\n",
      "final_age : 6.75 to 7.75\n",
      "final_age : 7.75 to 8.75\n",
      "final_age : 8.75 to 9.75\n",
      "final_age : 9.75 to 10.75\n",
      "final_age : 10.75 to 11.75\n",
      "final_age : 11.75 to 12.75\n",
      "final_age : 12.75 to 13.75\n",
      "final_age : 13.75 to 14.75\n",
      "final_age : 14.75 to 15.75\n",
      "final_age : 15.75 to 16.75\n",
      "final_age : 16.75 to 17.75\n",
      "final_age : 17.75 to 18.75\n",
      "final_age : 18.75 to 19.75\n",
      "final_age : 19.75 to 20.75\n",
      "final_age : 20.75 to 21.75\n",
      "final_age : 21.75 to 22.75\n",
      "final_age : 22.75 to 23.75\n",
      "final_age : 23.75 to 24.75\n",
      "final_age : 24.75 to 25.75\n",
      "final_age : 25.75 to 26.75\n",
      "final_age : 26.75 to 27.75\n",
      "final_age : 27.75 to 28.75\n",
      "final_age : 28.75 to 29.75\n",
      "final_age : 29.75 to 30.75\n",
      "final_age : 30.75 to 31.75\n",
      "final_age : 31.75 to 32.75\n",
      "final_age : 32.75 to 33.75\n",
      "final_age : 33.75 to 34.75\n",
      "final_age : 34.75 to 35.75\n",
      "final_age : 35.75 to 36.75\n",
      "final_age : 36.75 to 37.75\n",
      "final_age : 37.75 to 38.75\n",
      "final_age : 38.75 to 39.75\n",
      "final_age : 39.75 to 40.75\n",
      "final_age : 40.75 to 41.75\n",
      "final_age : 41.75 to 42.75\n",
      "final_age : 42.75 to 43.75\n",
      "final_age : 43.75 to 44.75\n",
      "final_age : 44.75 to 45.75\n",
      "final_age : 45.75 to 46.75\n",
      "final_age : 46.75 to 47.75\n",
      "final_age : 47.75 to 48.75\n",
      "final_age : 48.75 to 49.75\n",
      "final_age : 49.75 to 50.75\n",
      "final_age : 50.75 to 51.75\n",
      "final_age : 51.75 to 52.75\n",
      "final_age : 52.75 to 53.75\n",
      "final_age : 53.75 to 54.75\n",
      "final_age : 54.75 to 55.75\n",
      "final_age : 55.75 to 56.75\n",
      "final_age : 56.75 to 57.75\n",
      "end\n"
     ]
    }
   ],
   "source": [
    "var1 = ds.init_lat\n",
    "var2 = ds.final_age\n",
    "var3 = ds.init_dens\n",
    "bins = [,ys,ages]\n",
    "weights = ds.init_volume\n",
    "# weights.name='iViT'\n",
    "S = (ds.final_section==ventsec) & (ds.init_t==lastinit)\n",
    "subsetname = 'final_section-7_init_t-last'\n",
    "\n",
    "D3 = ariane_D3(\n",
    "    var1=var1,\n",
    "    var2=var2,\n",
    "    var3=var3,\n",
    "    bins=bins,\n",
    "    dim=['ntraj'],\n",
    "    weights=weights,\n",
    "    subset=True,\n",
    "    conditional=S,\n",
    "    subsetname=subsetname,\n",
    "    verbose=True,\n",
    "    save=True\n",
    "        )"
   ]
  },
  {
   "cell_type": "markdown",
   "metadata": {},
   "source": [
    "### A 4-D distribution\n",
    "This could take a considerable amount of time to run. See calc_D4.py for a python script that can be run outside of the notebook environment."
   ]
  },
  {
   "cell_type": "code",
   "execution_count": null,
   "metadata": {},
   "outputs": [
    {
     "name": "stdout",
     "output_type": "stream",
     "text": [
      "init_t : 1367.5 to 1440.5\n",
      "end\n",
      "end\n",
      "init_t : 1440.5 to 1513.5\n"
     ]
    }
   ],
   "source": [
    "var1 = ds.final_x\n",
    "var2 = ds.final_y\n",
    "var3 = ds.final_age\n",
    "var4 = ds.init_t\n",
    "\n",
    "bins = [xs,ys,ages,inits]\n",
    "weights = ds.init_volume\n",
    "\n",
    "S = (ds.final_section==ventsec)\n",
    "subsetname = 'final_section-7'\n",
    "\n",
    "D4 = ariane_D4(\n",
    "    var1=var1,\n",
    "    var2=var2,\n",
    "    var3=var3,\n",
    "    var4=var4,\n",
    "    bins=bins,\n",
    "    dim=['ntraj'],\n",
    "    weights=weights,\n",
    "    subset=True,\n",
    "    conditional=S,\n",
    "    subsetname=subsetname,\n",
    "    verbose=True,\n",
    "    save=True\n",
    "        )"
   ]
  },
  {
   "cell_type": "code",
   "execution_count": null,
   "metadata": {},
   "outputs": [],
   "source": []
  }
 ],
 "metadata": {
  "kernelspec": {
   "display_name": "Python 3",
   "language": "python",
   "name": "python3"
  },
  "language_info": {
   "codemirror_mode": {
    "name": "ipython",
    "version": 3
   },
   "file_extension": ".py",
   "mimetype": "text/x-python",
   "name": "python",
   "nbconvert_exporter": "python",
   "pygments_lexer": "ipython3",
   "version": "3.8.0"
  }
 },
 "nbformat": 4,
 "nbformat_minor": 4
}
