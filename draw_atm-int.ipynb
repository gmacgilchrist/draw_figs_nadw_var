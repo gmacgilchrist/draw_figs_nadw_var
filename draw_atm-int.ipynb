{
 "cells": [
  {
   "cell_type": "markdown",
   "metadata": {},
   "source": [
    "### Figure: Linking atmospheric forcing and ocean interior"
   ]
  },
  {
   "cell_type": "code",
   "execution_count": 1,
   "metadata": {},
   "outputs": [],
   "source": [
    "import xarray as xr\n",
    "import numpy as np\n",
    "import pandas as pd\n",
    "from matplotlib import pyplot as plt"
   ]
  },
  {
   "cell_type": "code",
   "execution_count": 2,
   "metadata": {},
   "outputs": [],
   "source": [
    "# Universal variables\n",
    "rootdir = 'data/'\n",
    "yrst = 1958\n",
    "yrinit = 1976\n",
    "yrend = 2016\n",
    "years = np.arange(yrst,yrend+1,1)\n",
    "years_c = 0.5*(years[:-1]+years[1:])\n",
    "years_init = np.arange(yrinit,yrend+1,1)\n",
    "years_init_c = 0.5*(years_init[:-1]+years_init[1:])"
   ]
  },
  {
   "cell_type": "code",
   "execution_count": 3,
   "metadata": {},
   "outputs": [],
   "source": [
    "# Load NAO data\n",
    "filepath_nao = rootdir+'raw/nao_pc_djf_0.txt'\n",
    "nao_vals = np.loadtxt(filepath_nao,skiprows=1)[:,1]\n",
    "nao_years = np.loadtxt(filepath_nao,skiprows=1)[:,0]\n",
    "nao = xr.DataArray(nao_vals,dims=['years'],coords={'years':nao_years})\n",
    "nao = nao.sel(years=slice(yrst,yrend+1))\n",
    "\n",
    "# Load mixed layer volume from model\n",
    "# This is the summed volume in the mixed layer north of 45N as defined by the somxl010 variable\n",
    "# Evaluated in Feb-Mar-Apr of each year\n",
    "# See calc_Vmld.py for details of calculation\n",
    "filepath_mld = rootdir+'processed/eulerian/orca025_NA_Vmld.nc'\n",
    "vmld = xr.open_dataarray(filepath_mld)\n",
    "\n",
    "# Load volumetric distribution of age from ariane output\n",
    "filepath_vlag = rootdir+'processed/lagrangian/D2_weights-init_volume_bins-final_age-init_t_subset-final_section-7_alt.nc'\n",
    "vlag = xr.open_dataarray(filepath_vlag)"
   ]
  },
  {
   "cell_type": "code",
   "execution_count": 23,
   "metadata": {},
   "outputs": [],
   "source": [
    "# PROCESS DATA\n",
    "\n",
    "# Eulerian\n",
    "# Group data by years and take the mean\n",
    "vmld_byyear = vmld.groupby(vmld.time_counter.dt.year,years).mean(dim='time_counter')\n",
    "# Calculate annual anomaly\n",
    "vmld_anom = vmld_byyear-vmld_byyear.mean('year')\n",
    "\n",
    "# Lagrangian\n",
    "\n",
    "# Age anomaly\n",
    "vlag_itmean = vlag.where(vlag!=0).mean('init_t_bin')\n",
    "vlag_anom = (vlag.isel(init_t_bin=-1)-vlag_itmean)/vlag_itmean\n",
    "# Rebrand coord as year\n",
    "vlag_anom = vlag_anom.rename(\n",
    "    {'final_age_bin':'final_year_bin'}).assign_coords(\n",
    "    final_year_bin=np.flip(years_c))\n",
    "\n",
    "# Anomaly in volume of age 1\n",
    "vlag_age1_mean = vlag.isel(final_age_bin=0).mean('init_t_bin')\n",
    "vlag_age1_anom = vlag.isel(final_age_bin=0)-vlag_age1_mean\n",
    "# Rebrand coord as year\n",
    "vlag_age1_anom = vlag_age1_anom.rename(\n",
    "    {'init_t_bin':'init_year_bin'}).assign_coords(\n",
    "    init_year_bin=years_init_c)\n",
    "# Anomaly in volume of age 2\n",
    "vlag_age2_mean = vlag.isel(final_age_bin=1).mean('init_t_bin')\n",
    "vlag_age2_anom = vlag.isel(final_age_bin=1)-vlag_age2_mean\n",
    "# Rebrand coord as year\n",
    "vlag_age2_anom = vlag_age2_anom.rename(\n",
    "    {'init_t_bin':'init_year_bin'}).assign_coords(\n",
    "    init_year_bin=years_init_c-1)\n",
    "\n",
    "# %age re-entrainment after 1 year\n",
    "vlag_inyear = vlag.isel(final_age_bin=0)\n",
    "vlag_oneyearlater = vlag.shift(init_t_bin=-1).isel(final_age_bin=1)\n",
    "vlag_twoyearlater = vlag.shift(init_t_bin=-2).isel(final_age_bin=2)\n",
    "vlag_reent_oneyearlater = 100*(vlag_inyear-vlag_oneyearlater)/vlag_inyear\n",
    "vlag_reent_twoyearlater = 100*(vlag_oneyearlater-vlag_twoyearlater)/vlag_inyear\n",
    "vlag_reent_oneyearlater = vlag_reent_oneyearlater.rename(\n",
    "    {'init_t_bin':'init_year_bin'}).assign_coords(\n",
    "    init_year_bin=years_init_c)\n",
    "vlag_reent_twoyearlater = vlag_reent_twoyearlater.rename(\n",
    "    {'init_t_bin':'init_year_bin'}).assign_coords(\n",
    "    init_year_bin=years_init_c)"
   ]
  },
  {
   "cell_type": "code",
   "execution_count": 28,
   "metadata": {},
   "outputs": [
    {
     "data": {
      "image/png": "[encoded data removed]",
      "text/plain": [
       "<Figure size 1080x720 with 5 Axes>"
      ]
     },
     "metadata": {
      "needs_background": "light"
     },
     "output_type": "display_data"
    }
   ],
   "source": [
    "# PLOT\n",
    "fig,ax = plt.subplots(figsize=(15,10),nrows=5)\n",
    "xlims = [yrst+18,yrend]\n",
    "# NAO\n",
    "ax[0].bar(years_c[:-1],nao)\n",
    "ax[0].set_xlim(xlims)\n",
    "# Vmld\n",
    "ax[1].bar(years_c, vmld_anom)\n",
    "ax[1].set_xlim(xlims)\n",
    "# Vlag\n",
    "ax[2].bar(vlag_anom.final_year_bin,vlag_anom)\n",
    "ax[2].set_xlim(xlims)\n",
    "# Anomalies after 1 and 2 years\n",
    "ax[3].bar(vlag_age1_anom.init_year_bin,vlag_age1_anom)\n",
    "ax[3].bar(vlag_age2_anom.init_year_bin,vlag_age2_anom)\n",
    "ax[3].set_xlim(xlims)\n",
    "# % Re-entrainment in first two years\n",
    "ax[4].bar(vlag_reent_oneyearlater.init_year_bin,vlag_reent_oneyearlater)\n",
    "ax[4].bar(vlag_reent_twoyearlater.init_year_bin,vlag_reent_twoyearlater)\n",
    "ax[4].set_xlim(xlims)\n",
    "ax[4].invert_yaxis()"
   ]
  },
  {
   "cell_type": "code",
   "execution_count": null,
   "metadata": {},
   "outputs": [],
   "source": []
  }
 ],
 "metadata": {
  "kernelspec": {
   "display_name": "Python 3",
   "language": "python",
   "name": "python3"
  },
  "language_info": {
   "codemirror_mode": {
    "name": "ipython",
    "version": 3
   },
   "file_extension": ".py",
   "mimetype": "text/x-python",
   "name": "python",
   "nbconvert_exporter": "python",
   "pygments_lexer": "ipython3",
   "version": "3.8.0"
  }
 },
 "nbformat": 4,
 "nbformat_minor": 4
}
