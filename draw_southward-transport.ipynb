{
 "cells": [
  {
   "cell_type": "markdown",
   "metadata": {},
   "source": [
    "### Figure: Southward movement of particle center of mass, and link to variability"
   ]
  },
  {
   "cell_type": "code",
   "execution_count": 1,
   "metadata": {},
   "outputs": [],
   "source": [
    "import xarray as xr\n",
    "import numpy as np\n",
    "from matplotlib import pyplot as plt\n",
    "from matplotlib import gridspec as gridspec"
   ]
  },
  {
   "cell_type": "code",
   "execution_count": 2,
   "metadata": {},
   "outputs": [],
   "source": [
    "# Universal variables\n",
    "rootdir = 'data/'\n",
    "yrst = 1958\n",
    "yrinit = 1976\n",
    "yrend = 2016\n",
    "years = np.arange(yrst,yrend+1,1)\n",
    "years_c = 0.5*(years[:-1]+years[1:])"
   ]
  },
  {
   "cell_type": "code",
   "execution_count": 6,
   "metadata": {},
   "outputs": [],
   "source": [
    "# Load Lagrangian data\n",
    "# Load volumetric distribution of age and latitude from ariane output\n",
    "# Volume\n",
    "# filepath = rootdir+'processed/lagrangian/D2_weights-init_volume_bins-final_age-init_t_subset-final_section-7.nc'\n",
    "filepath = rootdir+'processed/lagrangian/D3_weights-init_volume_bins-final_age-final_year-init_t_subset-final_section-7.nc'\n",
    "iV_lag = xr.open_dataarray(filepath)\n",
    "# Volume * latitude\n",
    "filepath = rootdir+'processed/lagrangian/D3_weights-iViL_bins-final_age-final_year-init_t_subset-final_section-7.nc'\n",
    "iViL_lag = xr.open_dataarray(filepath)"
   ]
  },
  {
   "cell_type": "code",
   "execution_count": 7,
   "metadata": {},
   "outputs": [
    {
     "data": {
      "text/plain": [
       "[<matplotlib.lines.Line2D at 0x7f4a6d7f7910>]"
      ]
     },
     "execution_count": 7,
     "metadata": {},
     "output_type": "execute_result"
    },
    {
     "data": {
      "image/png": "[encoded data removed]",
      "text/plain": [
       "<Figure size 432x288 with 1 Axes>"
      ]
     },
     "metadata": {
      "needs_background": "light"
     },
     "output_type": "display_data"
    }
   ],
   "source": [
    "# Lagrangian calculation\n",
    "# Volume-weighted mean latitude\n",
    "(iViL_lag.sum('init_t_bin')/iV_lag.sum('init_t_bin')).plot()"
   ]
  },
  {
   "cell_type": "code",
   "execution_count": 9,
   "metadata": {},
   "outputs": [
    {
     "data": {
      "text/html": [
       "<pre>&lt;xarray.DataArray &#x27;final_age_bin&#x27; (final_age_bin: 58)&gt;\n",
       "array([ 0.25,  1.25,  2.25,  3.25,  4.25,  5.25,  6.25,  7.25,  8.25,  9.25,\n",
       "       10.25, 11.25, 12.25, 13.25, 14.25, 15.25, 16.25, 17.25, 18.25, 19.25,\n",
       "       20.25, 21.25, 22.25, 23.25, 24.25, 25.25, 26.25, 27.25, 28.25, 29.25,\n",
       "       30.25, 31.25, 32.25, 33.25, 34.25, 35.25, 36.25, 37.25, 38.25, 39.25,\n",
       "       40.25, 41.25, 42.25, 43.25, 44.25, 45.25, 46.25, 47.25, 48.25, 49.25,\n",
       "       50.25, 51.25, 52.25, 53.25, 54.25, 55.25, 56.25, 57.25])\n",
       "Coordinates:\n",
       "  * final_age_bin  (final_age_bin) float64 0.25 1.25 2.25 ... 55.25 56.25 57.25</pre>"
      ],
      "text/plain": [
       "<xarray.DataArray 'final_age_bin' (final_age_bin: 58)>\n",
       "array([ 0.25,  1.25,  2.25,  3.25,  4.25,  5.25,  6.25,  7.25,  8.25,  9.25,\n",
       "       10.25, 11.25, 12.25, 13.25, 14.25, 15.25, 16.25, 17.25, 18.25, 19.25,\n",
       "       20.25, 21.25, 22.25, 23.25, 24.25, 25.25, 26.25, 27.25, 28.25, 29.25,\n",
       "       30.25, 31.25, 32.25, 33.25, 34.25, 35.25, 36.25, 37.25, 38.25, 39.25,\n",
       "       40.25, 41.25, 42.25, 43.25, 44.25, 45.25, 46.25, 47.25, 48.25, 49.25,\n",
       "       50.25, 51.25, 52.25, 53.25, 54.25, 55.25, 56.25, 57.25])\n",
       "Coordinates:\n",
       "  * final_age_bin  (final_age_bin) float64 0.25 1.25 2.25 ... 55.25 56.25 57.25"
      ]
     },
     "execution_count": 9,
     "metadata": {},
     "output_type": "execute_result"
    }
   ],
   "source": [
    "iV_lag['final_age_bin']"
   ]
  },
  {
   "cell_type": "code",
   "execution_count": 10,
   "metadata": {},
   "outputs": [
    {
     "data": {
      "text/html": [
       "<pre>&lt;xarray.DataArray &#x27;init_t_bin&#x27; (init_t_bin: 40)&gt;\n",
       "array([1404. , 1477. , 1550. , 1623. , 1696. , 1769. , 1842. , 1915.5, 1989. ,\n",
       "       2062. , 2135. , 2208. , 2281. , 2354. , 2427. , 2500. , 2573. , 2646. ,\n",
       "       2719. , 2792. , 2865. , 2938. , 3011. , 3084. , 3157. , 3230. , 3303. ,\n",
       "       3376.5, 3450. , 3523. , 3596. , 3669. , 3742. , 3815. , 3888. , 3961. ,\n",
       "       4034. , 4107. , 4180. , 4217. ])\n",
       "Coordinates:\n",
       "  * init_t_bin  (init_t_bin) float64 1.404e+03 1.477e+03 ... 4.18e+03 4.217e+03\n",
       "Attributes:\n",
       "    title:     What is init_t ?\n",
       "    longname:  Initial position in l (time)\n",
       "    units:     See global attributes...</pre>"
      ],
      "text/plain": [
       "<xarray.DataArray 'init_t_bin' (init_t_bin: 40)>\n",
       "array([1404. , 1477. , 1550. , 1623. , 1696. , 1769. , 1842. , 1915.5, 1989. ,\n",
       "       2062. , 2135. , 2208. , 2281. , 2354. , 2427. , 2500. , 2573. , 2646. ,\n",
       "       2719. , 2792. , 2865. , 2938. , 3011. , 3084. , 3157. , 3230. , 3303. ,\n",
       "       3376.5, 3450. , 3523. , 3596. , 3669. , 3742. , 3815. , 3888. , 3961. ,\n",
       "       4034. , 4107. , 4180. , 4217. ])\n",
       "Coordinates:\n",
       "  * init_t_bin  (init_t_bin) float64 1.404e+03 1.477e+03 ... 4.18e+03 4.217e+03\n",
       "Attributes:\n",
       "    title:     What is init_t ?\n",
       "    longname:  Initial position in l (time)\n",
       "    units:     See global attributes..."
      ]
     },
     "execution_count": 10,
     "metadata": {},
     "output_type": "execute_result"
    }
   ],
   "source": [
    "iV_lag['init_t_bin']"
   ]
  },
  {
   "cell_type": "code",
   "execution_count": 13,
   "metadata": {},
   "outputs": [
    {
     "data": {
      "text/plain": [
       "40"
      ]
     },
     "execution_count": 13,
     "metadata": {},
     "output_type": "execute_result"
    }
   ],
   "source": [
    "ys = np.arange(1976,2016)\n",
    "len(ys)"
   ]
  },
  {
   "cell_type": "code",
   "execution_count": 17,
   "metadata": {},
   "outputs": [
    {
     "ename": "IndexError",
     "evalue": "index 58 is out of bounds for axis 1 with size 58",
     "output_type": "error",
     "traceback": [
      "\u001b[0;31m---------------------------------------------------------------------------\u001b[0m",
      "\u001b[0;31mIndexError\u001b[0m                                Traceback (most recent call last)",
      "\u001b[0;32m<ipython-input-17-0023a32ba1d5>\u001b[0m in \u001b[0;36m<module>\u001b[0;34m\u001b[0m\n\u001b[1;32m      1\u001b[0m \u001b[0mfinal_year\u001b[0m \u001b[0;34m=\u001b[0m \u001b[0mnp\u001b[0m\u001b[0;34m.\u001b[0m\u001b[0mzeros\u001b[0m\u001b[0;34m(\u001b[0m\u001b[0mshape\u001b[0m\u001b[0;34m=\u001b[0m\u001b[0;34m(\u001b[0m\u001b[0mlen\u001b[0m\u001b[0;34m(\u001b[0m\u001b[0mys\u001b[0m\u001b[0;34m)\u001b[0m\u001b[0;34m,\u001b[0m\u001b[0mlen\u001b[0m\u001b[0;34m(\u001b[0m\u001b[0miV_lag\u001b[0m\u001b[0;34m[\u001b[0m\u001b[0;34m'final_age_bin'\u001b[0m\u001b[0;34m]\u001b[0m\u001b[0;34m)\u001b[0m\u001b[0;34m)\u001b[0m\u001b[0;34m)\u001b[0m\u001b[0;34m\u001b[0m\u001b[0;34m\u001b[0m\u001b[0m\n\u001b[1;32m      2\u001b[0m \u001b[0;32mfor\u001b[0m \u001b[0mi\u001b[0m \u001b[0;32min\u001b[0m \u001b[0mrange\u001b[0m\u001b[0;34m(\u001b[0m\u001b[0mlen\u001b[0m\u001b[0;34m(\u001b[0m\u001b[0mys\u001b[0m\u001b[0;34m)\u001b[0m\u001b[0;34m)\u001b[0m\u001b[0;34m:\u001b[0m\u001b[0;34m\u001b[0m\u001b[0;34m\u001b[0m\u001b[0m\n\u001b[0;32m----> 3\u001b[0;31m     \u001b[0mfinal_year\u001b[0m\u001b[0;34m[\u001b[0m\u001b[0mi\u001b[0m\u001b[0;34m,\u001b[0m\u001b[0mlen\u001b[0m\u001b[0;34m(\u001b[0m\u001b[0miV_lag\u001b[0m\u001b[0;34m[\u001b[0m\u001b[0;34m'final_age_bin'\u001b[0m\u001b[0;34m]\u001b[0m\u001b[0;34m)\u001b[0m\u001b[0;34m]\u001b[0m \u001b[0;34m=\u001b[0m \u001b[0mys\u001b[0m\u001b[0;34m[\u001b[0m\u001b[0mi\u001b[0m\u001b[0;34m]\u001b[0m\u001b[0;34m-\u001b[0m\u001b[0miV_lag\u001b[0m\u001b[0;34m[\u001b[0m\u001b[0;34m'final_age_bin'\u001b[0m\u001b[0;34m]\u001b[0m\u001b[0;34m\u001b[0m\u001b[0;34m\u001b[0m\u001b[0m\n\u001b[0m",
      "\u001b[0;31mIndexError\u001b[0m: index 58 is out of bounds for axis 1 with size 58"
     ]
    }
   ],
   "source": [
    "final_year = np.zeros(shape=(len(ys),len(iV_lag['final_age_bin'])))\n",
    "for i in range(len(ys)):\n",
    "    final_year[i,len(iV_lag['final_age_bin'])] = ys[i]-iV_lag['final_age_bin']"
   ]
  },
  {
   "cell_type": "code",
   "execution_count": null,
   "metadata": {},
   "outputs": [],
   "source": []
  }
 ],
 "metadata": {
  "kernelspec": {
   "display_name": "Python 3",
   "language": "python",
   "name": "python3"
  },
  "language_info": {
   "codemirror_mode": {
    "name": "ipython",
    "version": 3
   },
   "file_extension": ".py",
   "mimetype": "text/x-python",
   "name": "python",
   "nbconvert_exporter": "python",
   "pygments_lexer": "ipython3",
   "version": "3.8.0"
  }
 },
 "nbformat": 4,
 "nbformat_minor": 4
}
