{
 "cells": [
  {
   "cell_type": "code",
   "execution_count": 1,
   "metadata": {},
   "outputs": [],
   "source": [
    "import numpy as np\n",
    "import xarray as xr\n",
    "from xhistogram.xarray import histogram as hist\n",
    "from thermodynamics import calc_sigmantr\n",
    "from dask.diagnostics import ProgressBar"
   ]
  },
  {
   "cell_type": "code",
   "execution_count": 2,
   "metadata": {},
   "outputs": [],
   "source": [
    "# from distributed import Client, LocalCluster, progress\n",
    "# cluster = LocalCluster(\n",
    "#     threads_per_worker=8,\n",
    "#     n_workers=1,\n",
    "#     dashboard_address=3624,\n",
    "#     processes=False,\n",
    "# )\n",
    "# client = Client(cluster)\n",
    "# client"
   ]
  },
  {
   "cell_type": "code",
   "execution_count": 2,
   "metadata": {},
   "outputs": [],
   "source": [
    "rootdir = '/home/ocean_shared_data1/DRAKKAR/ORCA025.L75-GJM189-S/'\n",
    "config = 'ORCA025.L75-GJM189'\n",
    "filepath = rootdir+'*/'+config+'_y2015m0[34]d*_gridT.nc'\n",
    "filepath_hgrid = rootdir+'GRID/'+config+'_mesh_hgr.nc'\n",
    "filepath_zgrid = rootdir+'GRID/'+config+'_mesh_zgr.nc'\n",
    "lonrange = [-100,30]\n",
    "latrange = [45,80]"
   ]
  },
  {
   "cell_type": "code",
   "execution_count": 3,
   "metadata": {},
   "outputs": [
    {
     "name": "stdout",
     "output_type": "stream",
     "text": [
      "CPU times: user 351 ms, sys: 179 ms, total: 530 ms\n",
      "Wall time: 10.2 s\n"
     ]
    }
   ],
   "source": [
    "%%time\n",
    "# Load grid\n",
    "ds_grid = xr.merge([xr.open_dataset(filepath_hgrid),xr.open_dataset(filepath_zgrid)],compat='override').squeeze()\n",
    "# Change name of depth variable and drop time_counter\n",
    "ds_grid = ds_grid.rename({'z':'deptht'}).assign_coords({'deptht':ds_grid.gdept_0.values}).drop('time_counter')\n",
    "ds_grid = ds_grid\n",
    "\n",
    "# Load data files\n",
    "ds_T = xr.open_mfdataset(filepath,combine='by_coords',parallel=True)\n",
    "# Merge with grid\n",
    "ds_T = ds_T.update(ds_grid);"
   ]
  },
  {
   "cell_type": "code",
   "execution_count": 5,
   "metadata": {},
   "outputs": [],
   "source": [
    "# Select upper 50m\n",
    "ds_T = ds_T.sel(deptht=slice(0,50))\n",
    "# Isolate North Atlantic\n",
    "NAcondition = (ds_T.nav_lon>=lonrange[0]) & (ds_T.nav_lon<=lonrange[1]) & (ds_T.nav_lat>=latrange[0]) & (ds_T.nav_lat<=latrange[1])\n",
    "ds_T = ds_T.where(NAcondition,drop=True)"
   ]
  },
  {
   "cell_type": "code",
   "execution_count": 6,
   "metadata": {},
   "outputs": [],
   "source": [
    "# Calculate neutral density\n",
    "ds_T['vosigmantr'] = xr.apply_ufunc(calc_sigmantr, ds_T.votemper, ds_T.vosaline,\n",
    "                      dask='parallelized', output_dtypes=[ds_T.votemper.dtype])"
   ]
  },
  {
   "cell_type": "code",
   "execution_count": 7,
   "metadata": {},
   "outputs": [],
   "source": [
    "densities = np.arange(27.7,28,0.01)"
   ]
  },
  {
   "cell_type": "code",
   "execution_count": 8,
   "metadata": {},
   "outputs": [
    {
     "name": "stdout",
     "output_type": "stream",
     "text": [
      "CPU times: user 4.17 s, sys: 0 ns, total: 4.17 s\n",
      "Wall time: 4.17 s\n"
     ]
    }
   ],
   "source": [
    "%%time\n",
    "volume = ds_T.e1t*ds_T.e2t*ds_T.e3t\n",
    "TV = hist(\n",
    "    ds_T.vosigmantr,\n",
    "    bins=[densities],\n",
    "    dim=['x','y','deptht'],\n",
    "    weights=(volume*ds_T.votemper))\n",
    "V = hist(\n",
    "    ds_T.vosigmantr,\n",
    "    bins=[densities],\n",
    "    dim=['x','y','deptht'],\n",
    "    weights=volume)\n",
    "T = TV/V"
   ]
  },
  {
   "cell_type": "code",
   "execution_count": 10,
   "metadata": {},
   "outputs": [
    {
     "name": "stdout",
     "output_type": "stream",
     "text": [
      "[########################################] | 100% Completed |  1hr 25min  0.3s\n"
     ]
    }
   ],
   "source": [
    "with ProgressBar():\n",
    "    T.to_dataset().to_netcdf('data/processed/orca025_NA-z50_votemper-by-vosigmantr.nc', mode='w')"
   ]
  },
  {
   "cell_type": "code",
   "execution_count": 1,
   "metadata": {},
   "outputs": [
    {
     "ename": "NameError",
     "evalue": "name 'T' is not defined",
     "output_type": "error",
     "traceback": [
      "\u001b[0;31m---------------------------------------------------------------------------\u001b[0m",
      "\u001b[0;31mNameError\u001b[0m                                 Traceback (most recent call last)",
      "\u001b[0;32m<ipython-input-1-29704cb91324>\u001b[0m in \u001b[0;36m<module>\u001b[0;34m\u001b[0m\n\u001b[0;32m----> 1\u001b[0;31m \u001b[0mT\u001b[0m\u001b[0;34m\u001b[0m\u001b[0;34m\u001b[0m\u001b[0m\n\u001b[0m",
      "\u001b[0;31mNameError\u001b[0m: name 'T' is not defined"
     ]
    }
   ],
   "source": []
  },
  {
   "cell_type": "code",
   "execution_count": null,
   "metadata": {},
   "outputs": [],
   "source": []
  }
 ],
 "metadata": {
  "kernelspec": {
   "display_name": "Python 3",
   "language": "python",
   "name": "python3"
  },
  "language_info": {
   "codemirror_mode": {
    "name": "ipython",
    "version": 3
   },
   "file_extension": ".py",
   "mimetype": "text/x-python",
   "name": "python",
   "nbconvert_exporter": "python",
   "pygments_lexer": "ipython3",
   "version": "3.8.0"
  }
 },
 "nbformat": 4,
 "nbformat_minor": 4
}
