{
 "cells": [
  {
   "cell_type": "markdown",
   "metadata": {},
   "source": [
    "### Figure: Role of the open ocean in setting inter-annual variability"
   ]
  },
  {
   "cell_type": "code",
   "execution_count": 1,
   "metadata": {},
   "outputs": [],
   "source": [
    "import xarray as xr\n",
    "import numpy as np\n",
    "import pandas as pd\n",
    "from matplotlib import pyplot as plt\n",
    "from xhistogram.xarray import histogram as hist"
   ]
  },
  {
   "cell_type": "code",
   "execution_count": 6,
   "metadata": {},
   "outputs": [],
   "source": [
    "# Universal variables\n",
    "rootdir = 'data/'\n",
    "yrst = 1958\n",
    "yrinit = 1976\n",
    "yrend = 2016\n",
    "years = np.arange(yrst,yrend+1,1)\n",
    "years_c = 0.5*(years[:-1]+years[1:])\n",
    "years_init = np.arange(yrinit,yrend+1,1)\n",
    "years_init_c = 0.5*(years_init[:-1]+years_init[1:])\n",
    "bathys = np.array([1,40,51,60,65,76])"
   ]
  },
  {
   "cell_type": "code",
   "execution_count": 3,
   "metadata": {},
   "outputs": [],
   "source": [
    "# Load bathymetry\n",
    "filepath_zgrid = rootdir+'raw/mesh_zgr.nc'\n",
    "zgrid = xr.open_dataset(filepath_zgrid).squeeze()\n",
    "# Load volumetric distribution of subduction location and age from ariane output\n",
    "filepath_vlag = rootdir+'processed/lagrangian/D4_weights-init_volume_bins-final_x-final_y-final_age-init_t_subset-final_section-7.nc'\n",
    "vlag = xr.open_dataarray(filepath_vlag)\n",
    "# Get the Lagrangian data and the grid data on the same grid\n",
    "# Assign coordinates\n",
    "zgrid = zgrid.assign_coords({'x':range(1,zgrid.x.size+1),'y':range(1,zgrid.y.size+1)})\n",
    "# Subset grid to region_limits\n",
    "xmask = (zgrid.x>=np.floor(vlag.final_x_bin.min())) & (zgrid.x<np.ceil(vlag.final_x_bin.max()))\n",
    "ymask = (zgrid.y>=np.floor(vlag.final_y_bin.min())) & (zgrid.y<np.ceil(vlag.final_y_bin.max()))\n",
    "zgrid = zgrid.where(xmask & ymask,drop=True)\n",
    "# Make consistent with lagrangian output\n",
    "zgrid = zgrid.rename({'x':'final_x_bin','y':'final_y_bin'})\n",
    "zgrid = zgrid.assign_coords({'final_x_bin':vlag.final_x_bin,'final_y_bin':vlag.final_y_bin})\n",
    "# Propoagate bathymetry data across time and merge datasets\n",
    "zgrid['mbathy'] = zgrid.mbathy*xr.ones_like(vlag)\n",
    "vlag = xr.merge([vlag,zgrid.mbathy])"
   ]
  },
  {
   "cell_type": "code",
   "execution_count": 7,
   "metadata": {},
   "outputs": [],
   "source": [
    "# PROCESS LAGRANGIAN DATA\n",
    "# Histogram the distribution according to the bathymetry of the subduction location\n",
    "vlag_bathy = hist(vlag.mbathy,\n",
    "                  bins=[bathys],\n",
    "                  dim=['final_x_bin','final_y_bin'],\n",
    "                  weights=vlag.init_volume)"
   ]
  },
  {
   "cell_type": "code",
   "execution_count": 8,
   "metadata": {},
   "outputs": [
    {
     "data": {
      "text/plain": [
       "<matplotlib.collections.QuadMesh at 0x7f11ee02c970>"
      ]
     },
     "execution_count": 8,
     "metadata": {},
     "output_type": "execute_result"
    },
    {
     "data": {
      "image/png": "[encoded data removed]",
      "text/plain": [
       "<Figure size 432x288 with 2 Axes>"
      ]
     },
     "metadata": {
      "needs_background": "light"
     },
     "output_type": "display_data"
    }
   ],
   "source": [
    "vlag_bathy.mean('init_t_bin').plot()"
   ]
  },
  {
   "cell_type": "code",
   "execution_count": null,
   "metadata": {},
   "outputs": [],
   "source": []
  }
 ],
 "metadata": {
  "kernelspec": {
   "display_name": "Python 3",
   "language": "python",
   "name": "python3"
  },
  "language_info": {
   "codemirror_mode": {
    "name": "ipython",
    "version": 3
   },
   "file_extension": ".py",
   "mimetype": "text/x-python",
   "name": "python",
   "nbconvert_exporter": "python",
   "pygments_lexer": "ipython3",
   "version": "3.8.0"
  }
 },
 "nbformat": 4,
 "nbformat_minor": 4
}
